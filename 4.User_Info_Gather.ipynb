{
 "cells": [
  {
   "cell_type": "markdown",
   "metadata": {},
   "source": [
    "# Gathering Users Followers\n",
    "\n",
    "In this notebook, we demonstrate how you may gather user's information using the Twitter API as wrapped by Tweepy.  Note however that due to twitter API limitations, we only gather up to 250 followers for each user, representing only a partial social network.\n",
    "\n",
    "### Things you'll need to run this notebook\n",
    "1. Your own Twitter developer credentials available which you can sign up for [here](https://developer.twitter.com/en/apply-for-access). Once you get your API keys, you can fill in the `YOUR CREDENTIALS HERE` section of the code below. It is however, not required for this workshop as we've already captured the data for you. \n",
    "2. A list of users you've identified in your topic analysis notebook\n",
    "\n",
    "### What this notebook does\n",
    "\n",
    "1. Connects to the twitter API in the first cell \n",
    "2. Iterates over the users you've identified in the topic model stored in `user_list` and gathers up to 250 of their followers. \n",
    "3. Saves that information as a JSON (JavaScript Object Notation) file \n",
    "\n"
   ]
  },
  {
   "cell_type": "code",
   "execution_count": null,
   "metadata": {},
   "outputs": [],
   "source": [
    "import json\n",
    "import time\n",
    "from IPython.display import clear_output\n",
    "\n",
    "try : \n",
    "    import tweepy\n",
    "    from tweepy import Stream\n",
    "    from tweepy import OAuthHandler\n",
    "    from tweepy.streaming import StreamListener\n",
    "except ImportError:\n",
    "    !pip install tweepy --user\n",
    "    from importlib import reload\n",
    "    import site\n",
    "    reload(site)\n",
    "    import tweepy\n",
    "    from tweepy import Stream\n",
    "    from tweepy import OAuthHandler\n",
    "    from tweepy.streaming import StreamListener\n",
    "\n",
    "# Connect to twitter API\n",
    "\n",
    "\n",
    "auth = tweepy.OAuthHandler('YOUR CREDENTIALS HERE', \n",
    "                           'YOUR CREDENTIALS HERE')\n",
    "auth.set_access_token('YOUR CREDENTIALS HERE', \n",
    "                      'YOUR CREDENTIALS HERE')\n",
    "\n",
    "\n",
    "api = tweepy.API(auth, wait_on_rate_limit=True, wait_on_rate_limit_notify=True, compression=True)"
   ]
  },
  {
   "cell_type": "code",
   "execution_count": null,
   "metadata": {},
   "outputs": [],
   "source": [
    "### Test if the api is working\n",
    "user = api.me()\n",
    "print (user.name)"
   ]
  },
  {
   "cell_type": "code",
   "execution_count": null,
   "metadata": {},
   "outputs": [],
   "source": [
    "# Here you would fill your list with the names of people you've identified in your topic analysis \n",
    "user_list=[]"
   ]
  },
  {
   "cell_type": "code",
   "execution_count": null,
   "metadata": {},
   "outputs": [],
   "source": [
    "followers_dict = {}\n",
    "N = 0\n",
    "for i,follower in enumerate(user_list):\n",
    "    user = follower\n",
    "    clear_output()\n",
    "    print(user, i)\n",
    "    follower_followers = []\n",
    "    try:\n",
    "        curse = tweepy.Cursor(api.followers, screen_name=user).items(250)\n",
    "    except tweepy.TweepError:\n",
    "        continue\n",
    "    try:\n",
    "        for page in curse:\n",
    "            follower_followers.append(page._json)\n",
    "    except tweepy.TweepError:\n",
    "        continue\n",
    "\n",
    "    followers_dict[user] = follower_followers\n",
    "    for j in range(61):\n",
    "        clear_output(wait=True)\n",
    "        time.sleep(1)\n",
    "        print(\"Waiting\", 60 - j, \"Seconds before proceeding\")\n",
    "        print(user, i)\n",
    "#print(followers_dict)\n",
    "# Save results to file \n",
    "with open('topic_users.json', 'w') as fp:\n",
    "     json.dump(followers_dict, fp)"
   ]
  }
 ],
 "metadata": {
  "kernelspec": {
   "display_name": "Python 3",
   "language": "python",
   "name": "python3"
  },
  "language_info": {
   "codemirror_mode": {
    "name": "ipython",
    "version": 3
   },
   "file_extension": ".py",
   "mimetype": "text/x-python",
   "name": "python",
   "nbconvert_exporter": "python",
   "pygments_lexer": "ipython3",
   "version": "3.6.8"
  },
  "nbTranslate": {
   "displayLangs": [
    "*"
   ],
   "hotkey": "alt-t",
   "langInMainMenu": true,
   "sourceLang": "en",
   "targetLang": "fr",
   "useGoogleTranslate": true
  }
 },
 "nbformat": 4,
 "nbformat_minor": 2
}
